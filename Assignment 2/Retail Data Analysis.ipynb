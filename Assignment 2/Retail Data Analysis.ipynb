{
 "cells": [
  {
   "cell_type": "code",
   "execution_count": 0,
   "metadata": {
    "application/vnd.databricks.v1+cell": {
     "cellMetadata": {
      "byteLimit": 2048000,
      "rowLimit": 10000
     },
     "inputWidgets": {},
     "nuid": "89536708-fdd7-499c-baef-94d44bfb7105",
     "showTitle": false,
     "title": ""
    }
   },
   "outputs": [],
   "source": [
    "from pyspark.sql import SparkSession\n",
    "\n",
    "spark = SparkSession.builder.appName(\"RetailDataAnalysis\").getOrCreate()\n"
   ]
  },
  {
   "cell_type": "code",
   "execution_count": 0,
   "metadata": {
    "application/vnd.databricks.v1+cell": {
     "cellMetadata": {
      "byteLimit": 2048000,
      "rowLimit": 10000
     },
     "inputWidgets": {},
     "nuid": "ca805306-254e-4925-aa6c-f5aeb021b331",
     "showTitle": false,
     "title": ""
    }
   },
   "outputs": [],
   "source": [
    "\n",
    "df = spark.read.option(\"header\", \"true\").csv(\"dbfs:/FileStore/tables/Retail_Files/*.csv\")"
   ]
  },
  {
   "cell_type": "code",
   "execution_count": 0,
   "metadata": {
    "application/vnd.databricks.v1+cell": {
     "cellMetadata": {
      "byteLimit": 2048000,
      "rowLimit": 10000
     },
     "inputWidgets": {},
     "nuid": "810c93df-17c0-4b02-8684-ea8dcdcb985b",
     "showTitle": false,
     "title": ""
    }
   },
   "outputs": [
    {
     "output_type": "stream",
     "name": "stdout",
     "output_type": "stream",
     "text": [
      "root\n |-- InvoiceNo: string (nullable = true)\n |-- StockCode: string (nullable = true)\n |-- Description: string (nullable = true)\n |-- Quantity: string (nullable = true)\n |-- InvoiceDate: string (nullable = true)\n |-- UnitPrice: string (nullable = true)\n |-- CustomerID: string (nullable = true)\n |-- Country: string (nullable = true)\n\n"
     ]
    }
   ],
   "source": [
    "df.printSchema()"
   ]
  },
  {
   "cell_type": "code",
   "execution_count": 0,
   "metadata": {
    "application/vnd.databricks.v1+cell": {
     "cellMetadata": {
      "byteLimit": 2048000,
      "rowLimit": 10000
     },
     "inputWidgets": {},
     "nuid": "a3d5ca42-a1bf-46b5-b99e-705c82955983",
     "showTitle": false,
     "title": ""
    }
   },
   "outputs": [],
   "source": [
    "df.createOrReplaceTempView(\"retail_data_tabel\")"
   ]
  },
  {
   "cell_type": "code",
   "execution_count": 0,
   "metadata": {
    "application/vnd.databricks.v1+cell": {
     "cellMetadata": {
      "byteLimit": 2048000,
      "rowLimit": 10000
     },
     "inputWidgets": {},
     "nuid": "79cc6557-68c8-4fa2-a4c5-8153c913f271",
     "showTitle": false,
     "title": ""
    }
   },
   "outputs": [],
   "source": [
    "df_count=spark.sql('select COUNT(DISTINCT InvoiceNo)  AS TotalTransactions from retail_data_tabel')"
   ]
  },
  {
   "cell_type": "code",
   "execution_count": 0,
   "metadata": {
    "application/vnd.databricks.v1+cell": {
     "cellMetadata": {
      "byteLimit": 2048000,
      "rowLimit": 10000
     },
     "inputWidgets": {},
     "nuid": "3df8832e-44dd-49aa-8622-05b96ba462fd",
     "showTitle": false,
     "title": ""
    }
   },
   "outputs": [
    {
     "output_type": "stream",
     "name": "stdout",
     "output_type": "stream",
     "text": [
      "+-----------------+\n|TotalTransactions|\n+-----------------+\n|25900            |\n+-----------------+\n\n"
     ]
    }
   ],
   "source": [
    "df_count.show(truncate=False)"
   ]
  },
  {
   "cell_type": "code",
   "execution_count": 0,
   "metadata": {
    "application/vnd.databricks.v1+cell": {
     "cellMetadata": {
      "byteLimit": 2048000,
      "rowLimit": 10000
     },
     "inputWidgets": {},
     "nuid": "756acc0c-ca79-4f65-9814-ee753c03027d",
     "showTitle": false,
     "title": ""
    }
   },
   "outputs": [],
   "source": [
    "df_total_value=spark.sql('select FORMAT_NUMBER(SUM(Quantity * UnitPrice), 2) AS TotalValue from retail_data_tabel')\n",
    "\n",
    "\n"
   ]
  },
  {
   "cell_type": "code",
   "execution_count": 0,
   "metadata": {
    "application/vnd.databricks.v1+cell": {
     "cellMetadata": {
      "byteLimit": 2048000,
      "rowLimit": 10000
     },
     "inputWidgets": {},
     "nuid": "28406912-fab2-4a85-affc-3192e38e60d0",
     "showTitle": false,
     "title": ""
    }
   },
   "outputs": [
    {
     "output_type": "stream",
     "name": "stdout",
     "output_type": "stream",
     "text": [
      "+------------+\n|TotalValue  |\n+------------+\n|9,747,747.93|\n+------------+\n\n"
     ]
    }
   ],
   "source": [
    "df_total_value.show(truncate=False)\n"
   ]
  },
  {
   "cell_type": "code",
   "execution_count": 0,
   "metadata": {
    "application/vnd.databricks.v1+cell": {
     "cellMetadata": {
      "byteLimit": 2048000,
      "rowLimit": 10000
     },
     "inputWidgets": {},
     "nuid": "1eeaa8a5-4d3e-484d-8744-5afeb695ea32",
     "showTitle": false,
     "title": ""
    }
   },
   "outputs": [],
   "source": [
    "df_5_top_selling = spark.sql('SELECT StockCode, SUM(Quantity) AS TotalSold ' +\n",
    "                            'FROM retail_data_tabel ' +\n",
    "                            'GROUP BY StockCode ' +\n",
    "                            'ORDER BY TotalSold DESC ' +\n",
    "                            'LIMIT 5')"
   ]
  },
  {
   "cell_type": "code",
   "execution_count": 0,
   "metadata": {
    "application/vnd.databricks.v1+cell": {
     "cellMetadata": {
      "byteLimit": 2048000,
      "rowLimit": 10000
     },
     "inputWidgets": {},
     "nuid": "930a234f-d48d-4307-ac82-148a36b24a37",
     "showTitle": false,
     "title": ""
    }
   },
   "outputs": [
    {
     "output_type": "stream",
     "name": "stdout",
     "output_type": "stream",
     "text": [
      "+---------+---------+\n|StockCode|TotalSold|\n+---------+---------+\n|22197    |56450.0  |\n|84077    |53847.0  |\n|85099B   |47363.0  |\n|85123A   |38830.0  |\n|84879    |36221.0  |\n+---------+---------+\n\n"
     ]
    }
   ],
   "source": [
    "df_5_top_selling.show(truncate=False)"
   ]
  },
  {
   "cell_type": "code",
   "execution_count": 0,
   "metadata": {
    "application/vnd.databricks.v1+cell": {
     "cellMetadata": {
      "byteLimit": 2048000,
      "rowLimit": 10000
     },
     "inputWidgets": {},
     "nuid": "2e71a874-74f1-4a59-aff9-39f860130f31",
     "showTitle": false,
     "title": ""
    }
   },
   "outputs": [],
   "source": [
    "df_5_topmost_valuable = spark.sql('SELECT StockCode, Description,CAST(SUM(Quantity * UnitPrice)AS DECIMAL(10, 2))  AS TotalValue ' +\n",
    "                            'FROM retail_data_tabel ' +\n",
    "                            'GROUP BY StockCode, Description ' +\n",
    "                            'ORDER BY TotalValue DESC ' +\n",
    "                            'LIMIT 5')"
   ]
  },
  {
   "cell_type": "code",
   "execution_count": 0,
   "metadata": {
    "application/vnd.databricks.v1+cell": {
     "cellMetadata": {
      "byteLimit": 2048000,
      "rowLimit": 10000
     },
     "inputWidgets": {},
     "nuid": "7c4b20f8-1586-49dd-a9c6-be6166c7bc03",
     "showTitle": false,
     "title": ""
    }
   },
   "outputs": [
    {
     "output_type": "stream",
     "name": "stdout",
     "output_type": "stream",
     "text": [
      "+---------+----------------------------------+----------+\n|StockCode|Description                       |TotalValue|\n+---------+----------------------------------+----------+\n|DOT      |DOTCOM POSTAGE                    |206245.48 |\n|22423    |REGENCY CAKESTAND 3 TIER          |164762.19 |\n|47566    |PARTY BUNTING                     |98302.98  |\n|85123A   |WHITE HANGING HEART T-LIGHT HOLDER|97715.99  |\n|85099B   |JUMBO BAG RED RETROSPOT           |92356.03  |\n+---------+----------------------------------+----------+\n\n"
     ]
    }
   ],
   "source": [
    "df_5_topmost_valuable.show(truncate=False)"
   ]
  },
  {
   "cell_type": "code",
   "execution_count": 0,
   "metadata": {
    "application/vnd.databricks.v1+cell": {
     "cellMetadata": {
      "byteLimit": 2048000,
      "rowLimit": 10000
     },
     "inputWidgets": {},
     "nuid": "d18fcdb3-83ca-42ed-ad61-eca284cd05ed",
     "showTitle": false,
     "title": ""
    }
   },
   "outputs": [],
   "source": [
    "df_country_and_totalValue = spark.sql('SELECT Country, CAST(SUM(Quantity * UnitPrice) AS DECIMAL(10, 2)) AS TotalValue ' +\n",
    "                            'FROM retail_data_tabel ' +\n",
    "                            'GROUP BY Country ' )\n",
    "                            "
   ]
  },
  {
   "cell_type": "code",
   "execution_count": 0,
   "metadata": {
    "application/vnd.databricks.v1+cell": {
     "cellMetadata": {
      "byteLimit": 2048000,
      "rowLimit": 10000
     },
     "inputWidgets": {},
     "nuid": "df26734b-ae54-460d-95fc-5bd150f80e43",
     "showTitle": false,
     "title": ""
    }
   },
   "outputs": [
    {
     "output_type": "stream",
     "name": "stdout",
     "output_type": "stream",
     "text": [
      "+---------------+----------+\n|Country        |TotalValue|\n+---------------+----------+\n|Sweden         |36595.91  |\n|Germany        |221698.21 |\n|France         |197403.90 |\n|Greece         |4710.52   |\n|Belgium        |40910.96  |\n|Finland        |22326.74  |\n|Malta          |2505.47   |\n|Unspecified    |4749.79   |\n|Italy          |16890.51  |\n|EIRE           |263276.82 |\n|Norway         |35163.46  |\n|Spain          |54774.58  |\n|Denmark        |18768.14  |\n|Hong Kong      |10117.04  |\n|Iceland        |4310.00   |\n|Channel Islands|20086.29  |\n|USA            |1730.92   |\n|Switzerland    |56385.35  |\n|Japan          |35340.62  |\n|Poland         |7213.14   |\n+---------------+----------+\nonly showing top 20 rows\n\n"
     ]
    }
   ],
   "source": [
    "df_country_and_totalValue.show(truncate=False)"
   ]
  },
  {
   "cell_type": "code",
   "execution_count": 0,
   "metadata": {
    "application/vnd.databricks.v1+cell": {
     "cellMetadata": {
      "byteLimit": 2048000,
      "rowLimit": 10000
     },
     "inputWidgets": {},
     "nuid": "e5f1174b-04b0-4446-9a69-612ff673f741",
     "showTitle": false,
     "title": ""
    }
   },
   "outputs": [
    {
     "output_type": "stream",
     "name": "stderr",
     "output_type": "stream",
     "text": [
      "/databricks/spark/python/pyspark/sql/pandas/utils.py:124: UserWarning: The conversion of DecimalType columns is inefficient and may take a long time. Column names: [TotalValue] If those columns are not necessary, you may consider dropping them or converting to primitive types before the conversion.\n  warnings.warn(\n"
     ]
    },
    {
     "output_type": "display_data",
     "data": {
      "image/png": "[encoded data removed]"
     },
     "metadata": {
      "application/vnd.databricks.v1+output": {
       "addedWidgets": {},
       "arguments": {},
       "data": "data:image/png;base64,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\n",
       "datasetInfos": [],
       "metadata": {},
       "removedWidgets": [],
       "type": "image"
      }
     },
     "output_type": "display_data"
    }
   ],
   "source": [
    "\n",
    "import matplotlib.pyplot as plt\n",
    "\n",
    "df_pandas = df_5_topmost_valuable.toPandas()\n",
    "\n",
    "\n",
    "plt.figure(figsize=(15, 10))\n",
    "plt.bar(df_pandas['Description'], df_pandas['TotalValue'])\n",
    "plt.xlabel('Product Description')\n",
    "plt.ylabel('Total Value')\n",
    "plt.title('Top 5 Most Valuable Products')\n",
    "plt.xticks(rotation=45, ha=\"right\")\n",
    "plt.tight_layout()\n",
    "plt.show()\n"
   ]
  },
  {
   "cell_type": "code",
   "execution_count": 0,
   "metadata": {
    "application/vnd.databricks.v1+cell": {
     "cellMetadata": {},
     "inputWidgets": {},
     "nuid": "d7890e60-58f7-4b31-8d92-4f38578558b7",
     "showTitle": false,
     "title": ""
    }
   },
   "outputs": [],
   "source": []
  }
 ],
 "metadata": {
  "application/vnd.databricks.v1+notebook": {
   "dashboards": [],
   "language": "python",
   "notebookMetadata": {
    "pythonIndentUnit": 4
   },
   "notebookName": "Retail Data Analysis",
   "widgets": {}
  }
 },
 "nbformat": 4,
 "nbformat_minor": 0
}
